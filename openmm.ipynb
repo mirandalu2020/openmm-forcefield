{
 "cells": [
  {
   "cell_type": "code",
   "execution_count": 1,
   "id": "a5e0e3d9",
   "metadata": {},
   "outputs": [
    {
     "data": {
      "application/vnd.jupyter.widget-view+json": {
       "model_id": "321ba45acd6d4528a70f4d96a1d3b658",
       "version_major": 2,
       "version_minor": 0
      },
      "text/plain": []
     },
     "metadata": {},
     "output_type": "display_data"
    }
   ],
   "source": [
    "%matplotlib inline\n",
    "import nglview\n",
    "import numpy as np\n",
    "import matplotlib.pyplot as plt\n",
    "\n",
    "# OpenMM \n",
    "from openmm.app import *\n",
    "from openmm import *\n",
    "from simtk.unit import *"
   ]
  },
  {
   "cell_type": "code",
   "execution_count": 2,
   "id": "3ae02278",
   "metadata": {},
   "outputs": [],
   "source": [
    "# get my PDB\n",
    "\n",
    "pdb = PDBFile('waterbox.pdb')"
   ]
  },
  {
   "cell_type": "code",
   "execution_count": 4,
   "id": "152c15b7",
   "metadata": {},
   "outputs": [],
   "source": [
    "#everyother forcefield use path, change the forcefiled name for the xml files\n",
    "#for the customizied forcefield use path_custom\n",
    "#sorry I didn't want to put them in the same folder on my end\n",
    "\n",
    "\n",
    "path = '/Users/mirandalu/Downloads/Courses/CHE 155/openmm_exercise/openmmforcefields-master/amber/files/tip3pfb.xml'\n",
    "#path_custom = 'output.xml'\n",
    "forcefield = ForceField(path)"
   ]
  },
  {
   "cell_type": "code",
   "execution_count": 5,
   "id": "368f2127",
   "metadata": {},
   "outputs": [],
   "source": [
    "system = forcefield.createSystem(pdb.topology,\n",
    "                                 nonbondedMethod=PME,\n",
    "                                 nonbondedCutoff=0.9*nanometer,\n",
    "                                 rigidWater=True)"
   ]
  },
  {
   "cell_type": "code",
   "execution_count": 6,
   "id": "f334941f",
   "metadata": {},
   "outputs": [],
   "source": [
    "integrator = LangevinIntegrator(300,1,0.002)"
   ]
  },
  {
   "cell_type": "code",
   "execution_count": 7,
   "id": "5587d0b4",
   "metadata": {},
   "outputs": [],
   "source": [
    "monte_carlo = MonteCarloBarostat(1.0,300.)"
   ]
  },
  {
   "cell_type": "code",
   "execution_count": 8,
   "id": "71429829",
   "metadata": {},
   "outputs": [],
   "source": [
    "platform = Platform.getPlatformByName('CPU')"
   ]
  },
  {
   "cell_type": "code",
   "execution_count": 9,
   "id": "632edfb1",
   "metadata": {},
   "outputs": [],
   "source": [
    "simulation = Simulation(pdb.topology, system, integrator, platform)"
   ]
  },
  {
   "cell_type": "code",
   "execution_count": 10,
   "id": "3ba75b21",
   "metadata": {},
   "outputs": [],
   "source": [
    "simulation.context.setPositions(pdb.positions)"
   ]
  },
  {
   "cell_type": "code",
   "execution_count": 11,
   "id": "31ba2b28",
   "metadata": {},
   "outputs": [
    {
     "name": "stdout",
     "output_type": "stream",
     "text": [
      "-35965.52205583109 kJ/mol\n"
     ]
    }
   ],
   "source": [
    "state = simulation.context.getState(getEnergy=True)\n",
    "print(state.getPotentialEnergy())"
   ]
  },
  {
   "cell_type": "code",
   "execution_count": 12,
   "id": "77e79c32",
   "metadata": {},
   "outputs": [],
   "source": [
    "#generate report, make sure to change the output file name\n",
    "#the corresponding file names are tip3pfb, tip3p, and custom\n",
    "\n",
    "reporter1 = StateDataReporter('custom.txt', 100, step=True, time = True, \n",
    "                              potentialEnergy=True, kineticEnergy=True, totalEnergy=True,\n",
    "                             temperature=True, volume=True, density=True)\n",
    "reporter2 = DCDReporter('custom.dcd', 100)\n",
    "simulation.reporters.append(reporter1)\n",
    "simulation.reporters.append(reporter2)"
   ]
  },
  {
   "cell_type": "code",
   "execution_count": 13,
   "id": "023ad972",
   "metadata": {},
   "outputs": [],
   "source": [
    "#2fs frame, so total 50000 steps total to make 1ms\n",
    "\n",
    "simulation.step(50000)"
   ]
  },
  {
   "cell_type": "code",
   "execution_count": null,
   "id": "6b46809a",
   "metadata": {},
   "outputs": [],
   "source": []
  },
  {
   "cell_type": "code",
   "execution_count": 14,
   "id": "81aa1575",
   "metadata": {},
   "outputs": [],
   "source": [
    "#plot my outputs from VMD \n",
    "\n",
    "import pandas as pd\n",
    "import numpy as np"
   ]
  },
  {
   "cell_type": "code",
   "execution_count": 15,
   "id": "fa337c33",
   "metadata": {},
   "outputs": [],
   "source": [
    "df = pd.read_csv(\"tip3pfb.txt\")\n",
    "df = df.to_csv('tip3pfb.csv',index = 0)\n",
    "df = pd.read_csv('tip3pfb.csv')"
   ]
  },
  {
   "cell_type": "code",
   "execution_count": 16,
   "id": "384df461",
   "metadata": {},
   "outputs": [
    {
     "name": "stdout",
     "output_type": "stream",
     "text": [
      "The average density is 0.9916318 g/mL\n"
     ]
    }
   ],
   "source": [
    "#calculate average density across all frames\n",
    "#not sure why... but all of my files ended up having the same average density\n",
    "\n",
    "average_density = np.mean(df.iloc[:, 7]).round(7)\n",
    "print('The average density is',average_density,'g/mL')"
   ]
  },
  {
   "cell_type": "code",
   "execution_count": null,
   "id": "351812f7",
   "metadata": {},
   "outputs": [],
   "source": []
  },
  {
   "cell_type": "code",
   "execution_count": 17,
   "id": "1f630325",
   "metadata": {},
   "outputs": [
    {
     "data": {
      "text/plain": [
       "Text(0, 0.5, 'g(r)')"
      ]
     },
     "execution_count": 17,
     "metadata": {},
     "output_type": "execute_result"
    },
    {
     "data": {
      "image/png": "[encoded data removed]",
      "text/plain": [
       "<Figure size 432x288 with 1 Axes>"
      ]
     },
     "metadata": {
      "needs_background": "light"
     },
     "output_type": "display_data"
    }
   ],
   "source": [
    "#plotting the experimental values\n",
    "\n",
    "data = pd.read_csv('oo.als_bestfit.dat',sep = \"\t\")\n",
    "data.columns = [\"r\", \"g(r)\"]\n",
    "data.astype(float)\n",
    "data.head(5)\n",
    "plt.plot(data['r'],data['g(r)'])\n",
    "plt.xlabel('r')\n",
    "plt.ylabel(\"g(r)\")"
   ]
  },
  {
   "cell_type": "code",
   "execution_count": 18,
   "id": "4f6961e8",
   "metadata": {},
   "outputs": [
    {
     "data": {
      "text/plain": [
       "Text(0, 0.5, 'g(r)')"
      ]
     },
     "execution_count": 18,
     "metadata": {},
     "output_type": "execute_result"
    },
    {
     "data": {
      "image/png": "[encoded data removed]",
      "text/plain": [
       "<Figure size 432x288 with 1 Axes>"
      ]
     },
     "metadata": {
      "needs_background": "light"
     },
     "output_type": "display_data"
    }
   ],
   "source": [
    "#plotting the tip3p forcefiled output\n",
    "\n",
    "data = pd.read_csv('tip3p-oo.dat',sep = \" \")\n",
    "data.columns = [\"time\", \"g(r)\", \"r\"]\n",
    "data.astype(float)\n",
    "plt.plot(data['r'],data['g(r)'])\n",
    "plt.xlabel('r')\n",
    "plt.ylabel(\"g(r)\")"
   ]
  },
  {
   "cell_type": "code",
   "execution_count": 19,
   "id": "498fa0f8",
   "metadata": {
    "scrolled": true
   },
   "outputs": [
    {
     "data": {
      "text/plain": [
       "Text(0, 0.5, 'g(r)')"
      ]
     },
     "execution_count": 19,
     "metadata": {},
     "output_type": "execute_result"
    },
    {
     "data": {
      "image/png": "[encoded data removed]",
      "text/plain": [
       "<Figure size 432x288 with 1 Axes>"
      ]
     },
     "metadata": {
      "needs_background": "light"
     },
     "output_type": "display_data"
    }
   ],
   "source": [
    "#plotting the tip3p-fb forcefiled output\n",
    "\n",
    "data = pd.read_csv('tip3p-fb-oo.dat',sep = \" \")\n",
    "data.columns = [\"time\", \"g(r)\", \"r\"]\n",
    "data.astype(float)\n",
    "plt.plot(data['r'],data['g(r)'])\n",
    "plt.xlabel('r')\n",
    "plt.ylabel(\"g(r)\")"
   ]
  },
  {
   "cell_type": "code",
   "execution_count": 20,
   "id": "96f855d0",
   "metadata": {},
   "outputs": [],
   "source": [
    "#costumizing the tip3p-fb file, I meant to change the bond angle but I think it's not doing what I wanted \n",
    "#the output only changed the order of how each children element, the the value\n",
    "\n",
    "import xml.etree.ElementTree as ET\n",
    "tree = ET.parse(path)\n",
    "root = tree.getroot()\n",
    "\n",
    "# iterating through the price values.\n",
    "for ii in root.iter('angle'):\n",
    "    # updates the angle value\n",
    "    ii = ii+10\n",
    "    # creates a new attribute\n",
    "    ii.set('new_Angle')\n",
    "tree.write('output.xml')"
   ]
  },
  {
   "cell_type": "code",
   "execution_count": 21,
   "id": "9c5fd9ac",
   "metadata": {},
   "outputs": [
    {
     "data": {
      "text/plain": [
       "Text(0, 0.5, 'g(r)')"
      ]
     },
     "execution_count": 21,
     "metadata": {},
     "output_type": "execute_result"
    },
    {
     "data": {
      "image/png": "[encoded data removed]",
      "text/plain": [
       "<Figure size 432x288 with 1 Axes>"
      ]
     },
     "metadata": {
      "needs_background": "light"
     },
     "output_type": "display_data"
    }
   ],
   "source": [
    "data = pd.read_csv('custom-oo.dat',sep = \" \")\n",
    "data.columns = [\"time\", \"g(r)\", \"r\"]\n",
    "data.astype(float)\n",
    "plt.plot(data['r'],data['g(r)'])\n",
    "plt.xlabel('r')\n",
    "plt.ylabel(\"g(r)\")"
   ]
  },
  {
   "cell_type": "code",
   "execution_count": null,
   "id": "37d2e077",
   "metadata": {},
   "outputs": [],
   "source": []
  }
 ],
 "metadata": {
  "kernelspec": {
   "display_name": "Python 3 (ipykernel)",
   "language": "python",
   "name": "python3"
  },
  "language_info": {
   "codemirror_mode": {
    "name": "ipython",
    "version": 3
   },
   "file_extension": ".py",
   "mimetype": "text/x-python",
   "name": "python",
   "nbconvert_exporter": "python",
   "pygments_lexer": "ipython3",
   "version": "3.7.12"
  }
 },
 "nbformat": 4,
 "nbformat_minor": 5
}
